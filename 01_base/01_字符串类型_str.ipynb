{
  "cells": [
    {
      "cell_type": "markdown",
      "metadata": {
        "id": "PZRyOzipp3Zh"
      },
      "source": [
        "| [01_base/01_字符串类型_str.ipynb](https://github.com/shibing624/python-tutorial/blob/master/01_base/01_字符串类型_str.ipynb)  | Python字符串类型  |[Open In Colab](https://colab.research.google.com/github/shibing624/python-tutorial/blob/master/01_base/01_字符串类型_str.ipynb) |\n",
        "\n",
        "\n",
        "# 字符串"
      ]
    },
    {
      "cell_type": "markdown",
      "metadata": {
        "id": "v2E--tcQp3Zk"
      },
      "source": [
        "## 介绍字符串的索引"
      ]
    },
    {
      "cell_type": "code",
      "execution_count": 2,
      "metadata": {
        "colab": {
          "base_uri": "https://localhost:8080/",
          "height": 53
        },
        "id": "zktV--4ap3Zl",
        "outputId": "5fa72b96-2849-467e-e98b-81b57ec24273"
      },
      "outputs": [
        {
          "output_type": "stream",
          "name": "stdout",
          "text": [
            "<class 'str'>\n"
          ]
        },
        {
          "output_type": "execute_result",
          "data": {
            "text/plain": [
              "'g'"
            ],
            "application/vnd.google.colaboratory.intrinsic+json": {
              "type": "string"
            }
          },
          "metadata": {},
          "execution_count": 2
        }
      ],
      "source": [
        "# 字符串的索引\n",
        "s = 'good morning'\n",
        "# 查看类型\n",
        "print(type(s))\n",
        "s[0]  # g"
      ]
    },
    {
      "cell_type": "code",
      "execution_count": 3,
      "metadata": {
        "colab": {
          "base_uri": "https://localhost:8080/",
          "height": 35
        },
        "id": "X-Q3zOEhp3Zm",
        "outputId": "6a97e29d-d16b-441c-d154-b9bce093f84e"
      },
      "outputs": [
        {
          "output_type": "execute_result",
          "data": {
            "text/plain": [
              "'n'"
            ],
            "application/vnd.google.colaboratory.intrinsic+json": {
              "type": "string"
            }
          },
          "metadata": {},
          "execution_count": 3
        }
      ],
      "source": [
        "s[-2]  # n"
      ]
    },
    {
      "cell_type": "markdown",
      "metadata": {
        "id": "79OwiJiKp3Zm"
      },
      "source": [
        "## 切分操作"
      ]
    },
    {
      "cell_type": "markdown",
      "metadata": {
        "id": "x6Rx-Qnkp3Zn"
      },
      "source": [
        "\n",
        "\n",
        "分片用来从序列中提取出想要的子序列，其用法为：\n",
        "\n",
        "var[lower:upper:step]\n",
        "\n",
        "其范围包括 lower ，但不包括 upper ，即 [lower, upper)，\n",
        "step 表示取值间隔大小，如果没有默认为1。\n"
      ]
    },
    {
      "cell_type": "code",
      "execution_count": null,
      "metadata": {
        "pycharm": {
          "name": "#%%\n"
        },
        "id": "FpgoZmzEp3Zn",
        "outputId": "1360187d-7ff8-4e83-cc98-8f5d92fbed13"
      },
      "outputs": [
        {
          "data": {
            "text/plain": [
              "'ing'"
            ]
          },
          "execution_count": 66,
          "metadata": {},
          "output_type": "execute_result"
        }
      ],
      "source": [
        "s[-3:]  # ing"
      ]
    },
    {
      "cell_type": "code",
      "execution_count": null,
      "metadata": {
        "id": "LB5zNRxYp3Zn",
        "outputId": "7935da67-43bd-4ca1-aa1f-de8810508868"
      },
      "outputs": [
        {
          "data": {
            "text/plain": [
              "'good morn'"
            ]
          },
          "execution_count": 67,
          "metadata": {},
          "output_type": "execute_result"
        }
      ],
      "source": [
        "s[:-3]  # good morn"
      ]
    },
    {
      "cell_type": "code",
      "execution_count": null,
      "metadata": {
        "id": "PMwYHWUpp3Zn",
        "outputId": "84255abe-6a5b-4b48-a6ab-6ef10f3c4421"
      },
      "outputs": [
        {
          "data": {
            "text/plain": [
              "'good morning'"
            ]
          },
          "execution_count": 68,
          "metadata": {},
          "output_type": "execute_result"
        }
      ],
      "source": [
        "s[:]  # good morning"
      ]
    },
    {
      "cell_type": "markdown",
      "metadata": {
        "id": "yER3_ds-p3Zo"
      },
      "source": [
        "其他切分操作，练习：step"
      ]
    },
    {
      "cell_type": "code",
      "execution_count": null,
      "metadata": {
        "id": "VhnIUI0jp3Zo",
        "outputId": "4fec570a-6657-419b-ec26-21a1ea69d1f2"
      },
      "outputs": [
        {
          "name": "stdout",
          "output_type": "stream",
          "text": [
            "go onn\n",
            "gninrom doog\n",
            "good morning\n"
          ]
        }
      ],
      "source": [
        "print(s[::2])  # go onn\n",
        "print(s[::-1])  # gninrom doog\n",
        "print(s[:100])"
      ]
    },
    {
      "cell_type": "markdown",
      "metadata": {
        "id": "4IrvQGalp3Zo"
      },
      "source": [
        "本节完。"
      ]
    },
    {
      "cell_type": "code",
      "execution_count": null,
      "metadata": {
        "id": "3GrCc9jOp3Zo"
      },
      "outputs": [],
      "source": []
    }
  ],
  "metadata": {
    "kernelspec": {
      "display_name": "Python 3",
      "language": "python",
      "name": "python3"
    },
    "language_info": {
      "codemirror_mode": {
        "name": "ipython",
        "version": 3
      },
      "file_extension": ".py",
      "mimetype": "text/x-python",
      "name": "python",
      "nbconvert_exporter": "python",
      "pygments_lexer": "ipython3",
      "version": "3.8.8"
    },
    "colab": {
      "provenance": []
    }
  },
  "nbformat": 4,
  "nbformat_minor": 0
}